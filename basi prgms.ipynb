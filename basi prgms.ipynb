{
 "cells": [
  {
   "cell_type": "code",
   "execution_count": 1,
   "id": "4777ce3e-5c00-4456-9208-f756e557eec7",
   "metadata": {},
   "outputs": [
    {
     "name": "stdout",
     "output_type": "stream",
     "text": [
      "hi students\n",
      "India\n"
     ]
    }
   ],
   "source": [
    "num=99\n",
    "if (num>0):\n",
    "    print(\"hi students\")\n",
    "print(\"India\")    \n"
   ]
  },
  {
   "cell_type": "code",
   "execution_count": 3,
   "id": "82928c8d-ee18-4d32-b465-a4b6e806b5d4",
   "metadata": {},
   "outputs": [
    {
     "name": "stdout",
     "output_type": "stream",
     "text": [
      "India\n"
     ]
    }
   ],
   "source": [
    "num=-99\n",
    "if (num>0):\n",
    "    print(\"hi students\")\n",
    "print(\"India\")    \n"
   ]
  },
  {
   "cell_type": "code",
   "execution_count": 11,
   "id": "2de769ec-6285-4543-a5e6-36278fffcfd2",
   "metadata": {},
   "outputs": [
    {
     "name": "stdin",
     "output_type": "stream",
     "text": [
      "enter the age: 99\n"
     ]
    },
    {
     "name": "stdout",
     "output_type": "stream",
     "text": [
      "eligible\n",
      "hii\n"
     ]
    }
   ],
   "source": [
    "'''write a program to check wheher the person is eligible to vote by using if condition.\n",
    "test case:\n",
    "input:23\n",
    "oupu:eligible'''\n",
    "person=int(input(\"enter the age:\"))\n",
    "limit=18\n",
    "if person>=limit:\n",
    "    print(\"eligible\")\n",
    "    print(\"hii\")"
   ]
  },
  {
   "cell_type": "code",
   "execution_count": 15,
   "id": "4bff59ed-d22b-44cc-a61d-163a3d19d638",
   "metadata": {},
   "outputs": [
    {
     "name": "stdin",
     "output_type": "stream",
     "text": [
      "enter the number 4\n"
     ]
    },
    {
     "name": "stdout",
     "output_type": "stream",
     "text": [
      "4  is even number\n",
      "after condition EXIT!!!\n"
     ]
    }
   ],
   "source": [
    "'''print whether the number is even and skip the condition if not '''\n",
    "num=int(input(\"enter the number\"))\n",
    "if num%2==0:print(num, \" is even number\")\n",
    "print(\"after condition EXIT!!!\")"
   ]
  },
  {
   "cell_type": "code",
   "execution_count": 17,
   "id": "27529fa2-c9d1-4f9b-9710-4fc441af5d93",
   "metadata": {},
   "outputs": [
    {
     "name": "stdin",
     "output_type": "stream",
     "text": [
      "enter the number 7\n"
     ]
    },
    {
     "name": "stdout",
     "output_type": "stream",
     "text": [
      "7  is odd number\n",
      "after condition EXIT!!!\n"
     ]
    }
   ],
   "source": [
    "'''print whether the number is ODD and skip the condition if not '''\n",
    "num=int(input(\"enter the number\"))\n",
    "if num%2==1:print(num, \" is odd number\")\n",
    "print(\"after condition EXIT!!!\")"
   ]
  },
  {
   "cell_type": "code",
   "execution_count": 27,
   "id": "89d355a5-f07a-4eef-ad52-a8342be84adb",
   "metadata": {},
   "outputs": [
    {
     "name": "stdin",
     "output_type": "stream",
     "text": [
      "press any key: 9\n"
     ]
    },
    {
     "name": "stdout",
     "output_type": "stream",
     "text": [
      "the user has entered digit\n"
     ]
    }
   ],
   "source": [
    "'''progam to determine the character entered by a user,wheter it is an alphabet ,digit or space by using seperate if condition and predefined string functions'''\n",
    "char= input(\"press any key:\")\n",
    "if char.isalpha():\n",
    "    print(\"the user has entered character\")\n",
    "if char.isdigit():\n",
    "    print(\"the user has entered digit\")\n",
    "if char.isspace():\n",
    "     print(\"the user has entered space\")\n",
    "    \n",
    "    "
   ]
  },
  {
   "cell_type": "code",
   "execution_count": 29,
   "id": "50c6c597-ff7b-4edb-8ddd-05d09879a681",
   "metadata": {},
   "outputs": [
    {
     "name": "stdin",
     "output_type": "stream",
     "text": [
      "enter the age: 17\n"
     ]
    },
    {
     "name": "stdout",
     "output_type": "stream",
     "text": [
      "under eligible\n"
     ]
    }
   ],
   "source": [
    "#if else statements\n",
    "person=int(input(\"enter the age:\"))\n",
    "limit=18\n",
    "if person>=limit:\n",
    "    print(\"eligible\")\n",
    "    print(\"hii\")\n",
    "else:\n",
    "    print(\"under eligible\")"
   ]
  },
  {
   "cell_type": "code",
   "execution_count": 33,
   "id": "1fb091d8-5229-454b-876e-4d96634cb820",
   "metadata": {},
   "outputs": [
    {
     "name": "stdin",
     "output_type": "stream",
     "text": [
      "enter the value -4\n",
      "enter the value -99\n"
     ]
    },
    {
     "name": "stdout",
     "output_type": "stream",
     "text": [
      "b is smaller\n"
     ]
    }
   ],
   "source": [
    "'''write a proram to find the smallest o two numbers by using if-else condition\n",
    "where take a manual input from the user\n",
    "a=-4\n",
    "b=-99'''\n",
    "a=int(input(\"enter the value\"))\n",
    "b=int(input(\"enter the value\"))\n",
    "if a<b:\n",
    "      print(\"a is smaller\")\n",
    "else:\n",
    "      print(\"b is smaller\")"
   ]
  },
  {
   "cell_type": "code",
   "execution_count": 37,
   "id": "cef1ee92-b2eb-4528-a3b7-ddae3715d7e6",
   "metadata": {},
   "outputs": [
    {
     "name": "stdin",
     "output_type": "stream",
     "text": [
      "enter the value -4\n",
      "enter the value -99\n"
     ]
    },
    {
     "name": "stdout",
     "output_type": "stream",
     "text": [
      "small value is  -99\n"
     ]
    }
   ],
   "source": [
    "a=int(input(\"enter the value\"))\n",
    "b=int(input(\"enter the value\"))\n",
    "if a<b:\n",
    "    small=a\n",
    "else:\n",
    "    small=b\n",
    "print(\"small value is \",small)"
   ]
  },
  {
   "cell_type": "code",
   "execution_count": 49,
   "id": "dfd3f7a8-4cd3-4570-b7e2-6febf1e86855",
   "metadata": {},
   "outputs": [
    {
     "name": "stdin",
     "output_type": "stream",
     "text": [
      "enter any character from a-z b\n"
     ]
    },
    {
     "name": "stdout",
     "output_type": "stream",
     "text": [
      "converted case of input char: B\n"
     ]
    }
   ],
   "source": [
    "'''write a program to enter a character(a to z)if the entered value is in lower convert to upper and viceversa'''\n",
    "chr=input(\"enter any character from a-z\")\n",
    "if chr>='A'and chr<='Z':\n",
    "    chr=chr.lower()\n",
    "    print(\"converted case of input char:\",chr)\n",
    "else:\n",
    "    chr=chr.upper()\n",
    "    print(\"converted case of input char:\",chr)"
   ]
  },
  {
   "cell_type": "code",
   "execution_count": 79,
   "id": "60ef1093-907b-4876-bc69-413a6137e95a",
   "metadata": {},
   "outputs": [
    {
     "name": "stdin",
     "output_type": "stream",
     "text": [
      "enter year 2025\n"
     ]
    },
    {
     "name": "stdout",
     "output_type": "stream",
     "text": [
      "2025 is a leap year\n"
     ]
    }
   ],
   "source": [
    "'''check wether given input is leap year for 4 years and centurians by if-else'''\n",
    "y=int(input(\"enter year\"))\n",
    "if y%5==0 or y%100 or y%500==0:\n",
    " print(y,\"is a leap year\")\n",
    "else:\n",
    " print(y,\"not leap year\")"
   ]
  },
  {
   "cell_type": "code",
   "execution_count": 65,
   "id": "ff7f296a-b8bb-47c9-8923-b5ce3903e681",
   "metadata": {},
   "outputs": [
    {
     "name": "stdin",
     "output_type": "stream",
     "text": [
      "enter the number 0\n"
     ]
    },
    {
     "name": "stdout",
     "output_type": "stream",
     "text": [
      "zero entered\n"
     ]
    }
   ],
   "source": [
    "'''write a program to check whether  the given number is positive,negativeor a zero'''\n",
    "num=int(input(\"enter the number\"))\n",
    "if num==0:\n",
    "    print(\"zero entered\")\n",
    "elif num>0:\n",
    "    print(\"positive number\")\n",
    "else:\n",
    "    print(\"negative number\")\n",
    "    "
   ]
  },
  {
   "cell_type": "code",
   "execution_count": 81,
   "id": "d1ab93ee-517f-47c0-b6c5-4ff3050cd852",
   "metadata": {},
   "outputs": [
    {
     "name": "stdin",
     "output_type": "stream",
     "text": [
      "enter te number between 1-7: 7\n"
     ]
    },
    {
     "name": "stdout",
     "output_type": "stream",
     "text": [
      "saturday\n"
     ]
    }
   ],
   "source": [
    "num=int(input(\"enter te number between 1-7:\"))\n",
    "if num==1:print(\"sunday\")\n",
    "elif num==2:print(\"monday\")\n",
    "elif num==3:print(\"tuesday\")\n",
    "elif num==4:print(\"wednesdy\")\n",
    "elif num==5:print(\"thrusday\")    \n",
    "elif num==6:print(\"friday\")\n",
    "elif num==7:print(\"saturday\")\n",
    "else:print(\"wrong input\")\n",
    "    \n",
    "    "
   ]
  },
  {
   "cell_type": "code",
   "execution_count": 93,
   "id": "00e13d8a-8b36-40ea-a12d-33ec966abd01",
   "metadata": {},
   "outputs": [
    {
     "name": "stdin",
     "output_type": "stream",
     "text": [
      "enter the char from a->z x\n"
     ]
    },
    {
     "name": "stdout",
     "output_type": "stream",
     "text": [
      "x is a Costant\n"
     ]
    }
   ],
   "source": [
    "'''write a program to find the entered character is a vowel or a consonent , while user input could be either upperor lower case using if-elif-else'''\n",
    "ch=input(\"enter the char from a->z\")\n",
    "if ch=='a'or ch=='e'or ch=='i' or ch=='o' or ch=='u':\n",
    "    print(ch,\"is a vowel\")\n",
    "elif ch=='A' or ch=='E'or ch=='I' or ch=='O' or ch=='U':\n",
    "    print(ch,\"is a vowel\")\n",
    "else:\n",
    "    print(ch,\"is a Costant\")"
   ]
  },
  {
   "cell_type": "code",
   "execution_count": 98,
   "id": "715db476-96b1-462d-b14c-31fd56b182ad",
   "metadata": {},
   "outputs": [
    {
     "ename": "IndentationError",
     "evalue": "unindent does not match any outer indentation level (<string>, line 13)",
     "output_type": "error",
     "traceback": [
      "\u001b[1;36m  File \u001b[1;32m<string>:13\u001b[1;36m\u001b[0m\n\u001b[1;33m    if b!=0:\u001b[0m\n\u001b[1;37m            ^\u001b[0m\n\u001b[1;31mIndentationError\u001b[0m\u001b[1;31m:\u001b[0m unindent does not match any outer indentation level\n"
     ]
    }
   ],
   "source": [
    "'''create a simple calc by using if-elif to perform arthematic operations+-/* by choice of user input'''\n",
    "a=float(input(\"enter the value of a\"))\n",
    "b=float(input(\"enter the value of b\"))\n",
    "op=input(\"enter the operator(=,-,*,/\")\n",
    "if op=='+':\n",
    "         print(\"result:\",a+b)\n",
    "elif op=='-':\n",
    "         print(\"result:\",a-b)\n",
    "elif op=='*':\n",
    "         print(\"result:\",a*b)\n",
    "elif op=='/':\n",
    "         print(\"result:\",a/b)\n",
    "    if b!=0:\n",
    "        print(\"result:\",a/b)\n",
    "    else:\n",
    "        print(\"invalid input\")\n",
    "else\n",
    "  print(\"invalid operator\")\n",
    "              "
   ]
  },
  {
   "cell_type": "code",
   "execution_count": null,
   "id": "15c15fd0-e433-40fb-97a0-8a539f4b7161",
   "metadata": {},
   "outputs": [],
   "source": []
  }
 ],
 "metadata": {
  "kernelspec": {
   "display_name": "Python 3 (ipykernel)",
   "language": "python",
   "name": "python3"
  },
  "language_info": {
   "codemirror_mode": {
    "name": "ipython",
    "version": 3
   },
   "file_extension": ".py",
   "mimetype": "text/x-python",
   "name": "python",
   "nbconvert_exporter": "python",
   "pygments_lexer": "ipython3",
   "version": "3.12.7"
  }
 },
 "nbformat": 4,
 "nbformat_minor": 5
}
